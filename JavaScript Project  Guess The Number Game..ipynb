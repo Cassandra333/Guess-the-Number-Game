{
 "cells": [
  {
   "cell_type": "code",
   "execution_count": 1,
   "id": "75fc3dff",
   "metadata": {},
   "outputs": [
    {
     "name": "stdout",
     "output_type": "stream",
     "text": [
      "How many games woud you like to play?5\n",
      "Pick a number7\n",
      "Too low\n",
      "Pick a number14\n",
      "Too low\n",
      "Pick a number21\n",
      "Too low\n",
      "Pick a number24\n",
      "Lucky number! It took you these many guesses.\n",
      "Pick a number3\n",
      "Too low\n",
      "Pick a number9\n",
      "Too low\n",
      "Pick a number16\n",
      "Too high\n",
      "Pick a number13\n",
      "Too low\n",
      "Pick a number14\n",
      "Too low\n",
      "Pick a number16\n",
      "Too high\n",
      "Pick a number15\n",
      "Lucky number! It took you these many guesses.\n",
      "Pick a number3\n",
      "Too low\n",
      "Pick a number7\n",
      "Too low\n",
      "Pick a number11\n",
      "Too low\n",
      "Pick a number17\n",
      "Too low\n",
      "Pick a number20\n",
      "Too high\n",
      "Pick a number18\n",
      "Lucky number! It took you these many guesses.\n",
      "Pick a number7\n",
      "Too high\n",
      "Pick a number3\n",
      "Lucky number! It took you these many guesses.\n",
      "Pick a number10\n",
      "Too low\n",
      "Pick a number19\n",
      "Too high\n",
      "Pick a number12\n",
      "Too low\n",
      "Pick a number15\n",
      "Too low\n",
      "Pick a number17\n",
      "Too low\n",
      "Pick a number18\n",
      "Lucky number! It took you these many guesses.\n"
     ]
    }
   ],
   "source": [
    "import random\n",
    "\n",
    "games= ' '\n",
    "\n",
    "while games== ' ':\n",
    "    try:\n",
    "        games= int(input('How many games woud you like to play?'))\n",
    "    except:\n",
    "        print('Please select using a number')\n",
    "        \n",
    "for game in range(0,games):\n",
    "    pick= random.randint(1,26)\n",
    "    guess= None\n",
    "    attempts= 0\n",
    "    \n",
    "    while pick!= guess:\n",
    "        try:\n",
    "            guess= int(input('Pick a number'))\n",
    "        except:\n",
    "            print('Please select a number')\n",
    "            continue\n",
    "            \n",
    "        if guess!= pick:\n",
    "            attempts+= 1\n",
    "            if guess> pick:\n",
    "                print('Too high')\n",
    "            else:\n",
    "                print('Too low')\n",
    "        else:\n",
    "            print('Lucky number! It took you these many guesses.')"
   ]
  },
  {
   "cell_type": "code",
   "execution_count": null,
   "id": "1aaf30b5",
   "metadata": {},
   "outputs": [],
   "source": [
    "# CONCLUSION: The lucky numbers for the five games were 24,15,18,3,18\n"
   ]
  }
 ],
 "metadata": {
  "kernelspec": {
   "display_name": "Python 3 (ipykernel)",
   "language": "python",
   "name": "python3"
  },
  "language_info": {
   "codemirror_mode": {
    "name": "ipython",
    "version": 3
   },
   "file_extension": ".py",
   "mimetype": "text/x-python",
   "name": "python",
   "nbconvert_exporter": "python",
   "pygments_lexer": "ipython3",
   "version": "3.9.7"
  }
 },
 "nbformat": 4,
 "nbformat_minor": 5
}
